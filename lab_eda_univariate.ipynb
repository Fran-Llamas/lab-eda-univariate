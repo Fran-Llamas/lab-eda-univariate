{
 "cells": [
  {
   "cell_type": "markdown",
   "id": "a4127208-8b6f-4319-9cd3-dc6a089fd2c9",
   "metadata": {},
   "source": [
    "# Lab - EDA Univariate Analysis: Diving into Amazon UK Product Insights\r\n",
    "Objective: Explore the product listing dynamics on Amazon UK to extract actionable business insights. By understanding the distribution, central tendencies, and relationships of various product attributes, businesses can make more informed decisions on product positioning, pricing strategies, and inventory management.\r\n",
    "\r\n",
    "Dataset: This lab utilizes the Amazon UK product dataset which provides information on product categories, brands, prices, ratings, and more from from Amazon UK. You'll need to download it to start working with it.\r\n",
    "\r\n",
    "Part 1: Understanding Product Catesories\r\n",
    "Business Question: What are the most popular product categories on Amazon UK, and how do they compare in terms of listing frequency?\r\n",
    "\r\n",
    "Frequency Tables:\r\n",
    "\r\n",
    "Generate a frequency table for the product category.\r\n",
    "Which are the top 5 most listed product categories?\r\n",
    "Visualizations:\r\n",
    "\r\n",
    "Display the distribution of products across different categories using a bar chart. If you face problems understanding the chart, do it for a subset of top categories.\r\n",
    "For a subset of top categories, visualize their proportions using a pie chart. Does any category dominat\n",
    "e the listings?\r\n",
    "Part 2: Delving into Product Pricing\r\n",
    "Business Question: How are products priced on Amazon UK, and are there specific price points or ranges that are more common?\r\n",
    "\r\n",
    "Measures of Centrality:\r\n",
    "\r\n",
    "Calculate the mean, median, and mode for the price of products.\r\n",
    "What's the average price point of products listed? How does this compare with the most common price point (mode)?\r\n",
    "Measures of Dispersion:\r\n",
    "\r\n",
    "Determine the variance, standard deviation, range, and interquartile range for product price.\r\n",
    "How varied are the product prices? Are there any indicators of a significant spread in prices?\r\n",
    "Visualizations:\r\n",
    "\r\n",
    "Is there a specific price range where most products fall? Plot a histogram to visualize the distribution of product prices. If its hard to read these diagrams, think why this is, and explain how it could be solved..\r\n",
    "Are there products that are priced significantly higher than the rest? Use a box plot to showcase the spread and potentia\n",
    "l##  outliers in product pricing.\r\n",
    "Part 3: Unpacking Product Ratings\r\n",
    "Business Question: How do customers rate products on Amazon UK, and are there any patterns or tendencies in the ratings?\r\n",
    "\r\n",
    "Measures of Centrality:\r\n",
    "\r\n",
    "Calculate the mean, median, and mode for the rating of products.\r\n",
    "How do customers generally rate products? Is there a common trend?\r\n",
    "Measures of Dispersion:\r\n",
    "\r\n",
    "Determine the variance, standard deviation, and interquartile range for product rating.\r\n",
    "Are the ratings consistent, or is there a wide variation in customer feedback?\r\n",
    "Shape of the Distribution:\r\n",
    "\r\n",
    "Calculate the skewness and kurtosis for the rating column.\r\n",
    "Are the ratings normally distributed, or do they lean towards higher or lower values?\r\n",
    "Visualizations:\r\n",
    "\r\n",
    "Plot a histogram to visualize the distribution of product ratings. Is there a specific rating that is more common?\r\n",
    "Submission: Submit a Jupyter Notebook which contains code and a business-centric report summarizing your findings."
   ]
  },
  {
   "cell_type": "code",
   "execution_count": 4,
   "id": "a0d1949a-0b91-478d-9c09-27ad47ba14a5",
   "metadata": {},
   "outputs": [],
   "source": [
    "import pandas as pd\n",
    "\n",
    "df = pd.read_csv(\"C:/Users/Fran/Documents/Ironhack/Course/Day 21/amz_uk_price_prediction_dataset.csv\")"
   ]
  },
  {
   "cell_type": "code",
   "execution_count": 5,
   "id": "f7c4b0b8-0d7b-4f68-bdaa-a4cb145dc364",
   "metadata": {},
   "outputs": [
    {
     "data": {
      "text/html": [
       "<div>\n",
       "<style scoped>\n",
       "    .dataframe tbody tr th:only-of-type {\n",
       "        vertical-align: middle;\n",
       "    }\n",
       "\n",
       "    .dataframe tbody tr th {\n",
       "        vertical-align: top;\n",
       "    }\n",
       "\n",
       "    .dataframe thead th {\n",
       "        text-align: right;\n",
       "    }\n",
       "</style>\n",
       "<table border=\"1\" class=\"dataframe\">\n",
       "  <thead>\n",
       "    <tr style=\"text-align: right;\">\n",
       "      <th></th>\n",
       "      <th>uid</th>\n",
       "      <th>asin</th>\n",
       "      <th>title</th>\n",
       "      <th>stars</th>\n",
       "      <th>reviews</th>\n",
       "      <th>price</th>\n",
       "      <th>isBestSeller</th>\n",
       "      <th>boughtInLastMonth</th>\n",
       "      <th>category</th>\n",
       "    </tr>\n",
       "  </thead>\n",
       "  <tbody>\n",
       "    <tr>\n",
       "      <th>0</th>\n",
       "      <td>1</td>\n",
       "      <td>B09B96TG33</td>\n",
       "      <td>Echo Dot (5th generation, 2022 release) | Big ...</td>\n",
       "      <td>4.7</td>\n",
       "      <td>15308</td>\n",
       "      <td>21.99</td>\n",
       "      <td>False</td>\n",
       "      <td>0</td>\n",
       "      <td>Hi-Fi Speakers</td>\n",
       "    </tr>\n",
       "    <tr>\n",
       "      <th>1</th>\n",
       "      <td>2</td>\n",
       "      <td>B01HTH3C8S</td>\n",
       "      <td>Anker Soundcore mini, Super-Portable Bluetooth...</td>\n",
       "      <td>4.7</td>\n",
       "      <td>98099</td>\n",
       "      <td>23.99</td>\n",
       "      <td>True</td>\n",
       "      <td>0</td>\n",
       "      <td>Hi-Fi Speakers</td>\n",
       "    </tr>\n",
       "    <tr>\n",
       "      <th>2</th>\n",
       "      <td>3</td>\n",
       "      <td>B09B8YWXDF</td>\n",
       "      <td>Echo Dot (5th generation, 2022 release) | Big ...</td>\n",
       "      <td>4.7</td>\n",
       "      <td>15308</td>\n",
       "      <td>21.99</td>\n",
       "      <td>False</td>\n",
       "      <td>0</td>\n",
       "      <td>Hi-Fi Speakers</td>\n",
       "    </tr>\n",
       "    <tr>\n",
       "      <th>3</th>\n",
       "      <td>4</td>\n",
       "      <td>B09B8T5VGV</td>\n",
       "      <td>Echo Dot with clock (5th generation, 2022 rele...</td>\n",
       "      <td>4.7</td>\n",
       "      <td>7205</td>\n",
       "      <td>31.99</td>\n",
       "      <td>False</td>\n",
       "      <td>0</td>\n",
       "      <td>Hi-Fi Speakers</td>\n",
       "    </tr>\n",
       "    <tr>\n",
       "      <th>4</th>\n",
       "      <td>5</td>\n",
       "      <td>B09WX6QD65</td>\n",
       "      <td>Introducing Echo Pop | Full sound compact Wi-F...</td>\n",
       "      <td>4.6</td>\n",
       "      <td>1881</td>\n",
       "      <td>17.99</td>\n",
       "      <td>False</td>\n",
       "      <td>0</td>\n",
       "      <td>Hi-Fi Speakers</td>\n",
       "    </tr>\n",
       "    <tr>\n",
       "      <th>...</th>\n",
       "      <td>...</td>\n",
       "      <td>...</td>\n",
       "      <td>...</td>\n",
       "      <td>...</td>\n",
       "      <td>...</td>\n",
       "      <td>...</td>\n",
       "      <td>...</td>\n",
       "      <td>...</td>\n",
       "      <td>...</td>\n",
       "    </tr>\n",
       "    <tr>\n",
       "      <th>2443646</th>\n",
       "      <td>2828589</td>\n",
       "      <td>B0CHSD7P2Q</td>\n",
       "      <td>Motorbike Armour, Motorbike Clothing, Cycling ...</td>\n",
       "      <td>0.0</td>\n",
       "      <td>0</td>\n",
       "      <td>22.34</td>\n",
       "      <td>False</td>\n",
       "      <td>0</td>\n",
       "      <td>Motorbike Clothing</td>\n",
       "    </tr>\n",
       "    <tr>\n",
       "      <th>2443647</th>\n",
       "      <td>2828590</td>\n",
       "      <td>B0B7B8FNBQ</td>\n",
       "      <td>PROFIRST Waterproof Motorcycle 2 Piece Ladies ...</td>\n",
       "      <td>0.0</td>\n",
       "      <td>0</td>\n",
       "      <td>97.99</td>\n",
       "      <td>False</td>\n",
       "      <td>0</td>\n",
       "      <td>Motorbike Clothing</td>\n",
       "    </tr>\n",
       "    <tr>\n",
       "      <th>2443648</th>\n",
       "      <td>2828591</td>\n",
       "      <td>B0BD5FL5FB</td>\n",
       "      <td>Men’s Motorcycle Motorbike Biker Trousers Kevl...</td>\n",
       "      <td>0.0</td>\n",
       "      <td>0</td>\n",
       "      <td>52.99</td>\n",
       "      <td>False</td>\n",
       "      <td>0</td>\n",
       "      <td>Motorbike Clothing</td>\n",
       "    </tr>\n",
       "    <tr>\n",
       "      <th>2443649</th>\n",
       "      <td>2828592</td>\n",
       "      <td>B008OYLL4I</td>\n",
       "      <td>Texpeed Mens Motorcycle Motorbike Biker Trouse...</td>\n",
       "      <td>4.3</td>\n",
       "      <td>404</td>\n",
       "      <td>79.99</td>\n",
       "      <td>False</td>\n",
       "      <td>0</td>\n",
       "      <td>Motorbike Clothing</td>\n",
       "    </tr>\n",
       "    <tr>\n",
       "      <th>2443650</th>\n",
       "      <td>2828593</td>\n",
       "      <td>B08P3W9B3T</td>\n",
       "      <td>RIDEX CJ223 Motorcycle Motorbike Jacket Armour...</td>\n",
       "      <td>4.5</td>\n",
       "      <td>34</td>\n",
       "      <td>53.99</td>\n",
       "      <td>False</td>\n",
       "      <td>0</td>\n",
       "      <td>Motorbike Clothing</td>\n",
       "    </tr>\n",
       "  </tbody>\n",
       "</table>\n",
       "<p>2443651 rows × 9 columns</p>\n",
       "</div>"
      ],
      "text/plain": [
       "             uid        asin  \\\n",
       "0              1  B09B96TG33   \n",
       "1              2  B01HTH3C8S   \n",
       "2              3  B09B8YWXDF   \n",
       "3              4  B09B8T5VGV   \n",
       "4              5  B09WX6QD65   \n",
       "...          ...         ...   \n",
       "2443646  2828589  B0CHSD7P2Q   \n",
       "2443647  2828590  B0B7B8FNBQ   \n",
       "2443648  2828591  B0BD5FL5FB   \n",
       "2443649  2828592  B008OYLL4I   \n",
       "2443650  2828593  B08P3W9B3T   \n",
       "\n",
       "                                                     title  stars  reviews  \\\n",
       "0        Echo Dot (5th generation, 2022 release) | Big ...    4.7    15308   \n",
       "1        Anker Soundcore mini, Super-Portable Bluetooth...    4.7    98099   \n",
       "2        Echo Dot (5th generation, 2022 release) | Big ...    4.7    15308   \n",
       "3        Echo Dot with clock (5th generation, 2022 rele...    4.7     7205   \n",
       "4        Introducing Echo Pop | Full sound compact Wi-F...    4.6     1881   \n",
       "...                                                    ...    ...      ...   \n",
       "2443646  Motorbike Armour, Motorbike Clothing, Cycling ...    0.0        0   \n",
       "2443647  PROFIRST Waterproof Motorcycle 2 Piece Ladies ...    0.0        0   \n",
       "2443648  Men’s Motorcycle Motorbike Biker Trousers Kevl...    0.0        0   \n",
       "2443649  Texpeed Mens Motorcycle Motorbike Biker Trouse...    4.3      404   \n",
       "2443650  RIDEX CJ223 Motorcycle Motorbike Jacket Armour...    4.5       34   \n",
       "\n",
       "         price  isBestSeller  boughtInLastMonth            category  \n",
       "0        21.99         False                  0      Hi-Fi Speakers  \n",
       "1        23.99          True                  0      Hi-Fi Speakers  \n",
       "2        21.99         False                  0      Hi-Fi Speakers  \n",
       "3        31.99         False                  0      Hi-Fi Speakers  \n",
       "4        17.99         False                  0      Hi-Fi Speakers  \n",
       "...        ...           ...                ...                 ...  \n",
       "2443646  22.34         False                  0  Motorbike Clothing  \n",
       "2443647  97.99         False                  0  Motorbike Clothing  \n",
       "2443648  52.99         False                  0  Motorbike Clothing  \n",
       "2443649  79.99         False                  0  Motorbike Clothing  \n",
       "2443650  53.99         False                  0  Motorbike Clothing  \n",
       "\n",
       "[2443651 rows x 9 columns]"
      ]
     },
     "execution_count": 5,
     "metadata": {},
     "output_type": "execute_result"
    }
   ],
   "source": [
    "df"
   ]
  },
  {
   "cell_type": "code",
   "execution_count": 7,
   "id": "032c9f71-e788-4159-818c-2913fb7733bf",
   "metadata": {},
   "outputs": [
    {
     "data": {
      "text/plain": [
       "category\n",
       "Sports & Outdoors                         836265\n",
       "Beauty                                     19312\n",
       "Handmade Clothing, Shoes & Accessories     19229\n",
       "Bath & Body                                19092\n",
       "Birthday Gifts                             18978\n",
       "                                           ...  \n",
       "Alexa Built-In Devices                       107\n",
       "Motorbike Chassis                            107\n",
       "Plugs                                        107\n",
       "Smart Home Security & Lighting               104\n",
       "Smart Speakers                                54\n",
       "Name: count, Length: 296, dtype: int64"
      ]
     },
     "execution_count": 7,
     "metadata": {},
     "output_type": "execute_result"
    }
   ],
   "source": [
    "frequency_table = df['category'].value_counts()\n",
    "\n",
    "frequency_table"
   ]
  },
  {
   "cell_type": "markdown",
   "id": "2a4223d0-9779-4a32-a656-99f5753c1966",
   "metadata": {},
   "source": [
    "The top 5 categories in descendant order are:\n",
    "1- Sports & Outdoors\n",
    "2- Beauty\n",
    "3- Handmade Clothing, Shoes & Accessories\n",
    "4- Bath & Body\n",
    "5- Birthday Gifts"
   ]
  },
  {
   "cell_type": "code",
   "execution_count": 8,
   "id": "fb5de6c3-fcd6-4acc-b1bb-313d4952d1e5",
   "metadata": {},
   "outputs": [],
   "source": [
    "import seaborn as sns"
   ]
  },
  {
   "cell_type": "code",
   "execution_count": 9,
   "id": "a853747e-b909-4a2e-90e8-790cdebae8ca",
   "metadata": {},
   "outputs": [],
   "source": [
    "frequency_top_5 = frequency_table.head(5)"
   ]
  },
  {
   "cell_type": "code",
   "execution_count": 11,
   "id": "ca950bd7-fea0-483b-99b5-d7f50915fe7b",
   "metadata": {},
   "outputs": [
    {
     "data": {
      "image/png": "[encoded data removed]",
      "text/plain": [
       "<Figure size 640x480 with 1 Axes>"
      ]
     },
     "metadata": {},
     "output_type": "display_data"
    }
   ],
   "source": [
    "sns.barplot(x=frequency_table.index, y=frequency_table.values);"
   ]
  },
  {
   "cell_type": "code",
   "execution_count": null,
   "id": "5635dcf3-62f2-4ea0-ae80-bd8fd23c089e",
   "metadata": {},
   "outputs": [],
   "source": [
    "\n",
    "df['MSZoning'].value_counts().plot.pie(autopct='%1.1f%%', startangle=90, colors=sns.color_palette(\"Set3\"))"
   ]
  },
  {
   "cell_type": "code",
   "execution_count": 23,
   "id": "33db9f6c-28df-49b7-bd99-e3b1a8b3ecf6",
   "metadata": {},
   "outputs": [
    {
     "data": {
      "text/plain": [
       "<Axes: ylabel='count'>"
      ]
     },
     "execution_count": 23,
     "metadata": {},
     "output_type": "execute_result"
    },
    {
     "data": {
      "image/png": "[encoded data removed]",
      "text/plain": [
       "<Figure size 600x600 with 1 Axes>"
      ]
     },
     "metadata": {},
     "output_type": "display_data"
    }
   ],
   "source": [
    "frequency_top_5.plot.pie(autopct='%1.1f%%', startangle = 45, figsize = (6, 6), fontsize = 8)"
   ]
  },
  {
   "cell_type": "markdown",
   "id": "c2ae5ccb-bdd7-44d3-9ab4-f2dea626a7cf",
   "metadata": {},
   "source": [
    "\"Sports & Outdoors\" category clearly dominate the listings."
   ]
  },
  {
   "cell_type": "code",
   "execution_count": 30,
   "id": "62b1736f-6fc7-4f4b-b653-6b1ec5f7d834",
   "metadata": {},
   "outputs": [
    {
     "data": {
      "text/plain": [
       "89.24380943923663"
      ]
     },
     "execution_count": 30,
     "metadata": {},
     "output_type": "execute_result"
    }
   ],
   "source": [
    "df[\"price\"].mean()"
   ]
  },
  {
   "cell_type": "code",
   "execution_count": 31,
   "id": "4143cde0-39b0-474c-8922-a9c2cc900749",
   "metadata": {},
   "outputs": [
    {
     "data": {
      "text/plain": [
       "19.09"
      ]
     },
     "execution_count": 31,
     "metadata": {},
     "output_type": "execute_result"
    }
   ],
   "source": [
    "df[\"price\"].median()"
   ]
  },
  {
   "cell_type": "code",
   "execution_count": 29,
   "id": "3d815c84-214a-4704-acdf-bee1cc2a41ff",
   "metadata": {},
   "outputs": [
    {
     "data": {
      "text/plain": [
       "9.99"
      ]
     },
     "execution_count": 29,
     "metadata": {},
     "output_type": "execute_result"
    }
   ],
   "source": [
    "df[\"price\"].mode()[0]"
   ]
  },
  {
   "cell_type": "markdown",
   "id": "b211a7b2-ef53-42fa-aa98-1af88e8a892b",
   "metadata": {},
   "source": [
    "MEAN \"price\" = 89,24\n",
    "MEDIAN \"price\" = 19,09\n",
    "MODE \"price\" = 9,99"
   ]
  },
  {
   "cell_type": "markdown",
   "id": "3888606a-7c1e-4d1c-bc34-3b74d26b35c6",
   "metadata": {},
   "source": [
    "The average price is 89,2 while the median is 19,09. "
   ]
  },
  {
   "cell_type": "code",
   "execution_count": 34,
   "id": "048dca15-e740-49ce-9f7f-a8062d4f527d",
   "metadata": {},
   "outputs": [],
   "source": [
    "variance = df[\"price\"].var()\n",
    "std_deviation = df[\"price\"].std()\n",
    "min_price = df[\"price\"].min()\n",
    "max_price = df[\"price\"].max()\n",
    "range_price = max_price - min_price\n",
    "quantiles_price = df[\"price\"].quantile([0.25, 0.5, 0.75])\n",
    "interquartile_range = df[\"price\"].quantile(0.75) - df[\"price\"].quantile(0.5)"
   ]
  },
  {
   "cell_type": "code",
   "execution_count": 35,
   "id": "d4e5c670-43d2-4c10-b0cc-3f8644c47f33",
   "metadata": {},
   "outputs": [
    {
     "data": {
      "text/plain": [
       "(119445.48532256528, 345.60886175352226, 100000.0, 26.900000000000002)"
      ]
     },
     "execution_count": 35,
     "metadata": {},
     "output_type": "execute_result"
    }
   ],
   "source": [
    "variance, std_deviation, range_price, interquartile_range"
   ]
  },
  {
   "cell_type": "markdown",
   "id": "ba4e7c55-7edd-49f8-ad6f-f5c79a7914ab",
   "metadata": {},
   "source": [
    "The products vary in a max range of 100000, from the cheapest to the most expensive one."
   ]
  },
  {
   "cell_type": "code",
   "execution_count": 39,
   "id": "3a17ab56-b9fb-4361-a3b5-09e551480328",
   "metadata": {},
   "outputs": [
    {
     "name": "stderr",
     "output_type": "stream",
     "text": [
      "C:\\Users\\Fran\\anaconda3\\Lib\\site-packages\\seaborn\\_oldcore.py:1119: FutureWarning: use_inf_as_na option is deprecated and will be removed in a future version. Convert inf values to NaN before operating instead.\n",
      "  with pd.option_context('mode.use_inf_as_na', True):\n"
     ]
    },
    {
     "data": {
      "text/plain": [
       "<Axes: xlabel='price', ylabel='Count'>"
      ]
     },
     "execution_count": 39,
     "metadata": {},
     "output_type": "execute_result"
    },
    {
     "data": {
      "image/png": "[encoded data removed]",
      "text/plain": [
       "<Figure size 640x480 with 1 Axes>"
      ]
     },
     "metadata": {},
     "output_type": "display_data"
    }
   ],
   "source": [
    "sns.histplot(df[\"price\"], kde=True, bins=10)"
   ]
  },
  {
   "cell_type": "code",
   "execution_count": 38,
   "id": "3c99cd6e-b750-462f-b1d6-bf9227e20933",
   "metadata": {},
   "outputs": [
    {
     "data": {
      "text/plain": [
       "<Axes: >"
      ]
     },
     "execution_count": 38,
     "metadata": {},
     "output_type": "execute_result"
    },
    {
     "data": {
      "image/png": "[encoded data removed]",
      "text/plain": [
       "<Figure size 640x480 with 1 Axes>"
      ]
     },
     "metadata": {},
     "output_type": "display_data"
    }
   ],
   "source": [
    "sns.boxplot(data = df[\"price\"])"
   ]
  },
  {
   "cell_type": "code",
   "execution_count": 40,
   "id": "eb0e5525-747c-42ea-8ba1-08d474b4dbdb",
   "metadata": {},
   "outputs": [
    {
     "data": {
      "text/plain": [
       "count    2.443651e+06\n",
       "mean     8.924381e+01\n",
       "std      3.456089e+02\n",
       "min      0.000000e+00\n",
       "25%      9.990000e+00\n",
       "50%      1.909000e+01\n",
       "75%      4.599000e+01\n",
       "max      1.000000e+05\n",
       "Name: price, dtype: float64"
      ]
     },
     "execution_count": 40,
     "metadata": {},
     "output_type": "execute_result"
    }
   ],
   "source": [
    "df[\"price\"].describe()"
   ]
  },
  {
   "cell_type": "markdown",
   "id": "b417756b-983a-42e8-869c-9de483248d9c",
   "metadata": {},
   "source": [
    "There are some products that are significantly higher than the rest. We could see so, by checking the boxplot. The box is not visible, and we only see outliers represented in the visualization."
   ]
  },
  {
   "cell_type": "code",
   "execution_count": 41,
   "id": "a8889767-8de6-48c6-9a05-7603cc07cfa1",
   "metadata": {},
   "outputs": [
    {
     "data": {
      "text/plain": [
       "2.152836472966065"
      ]
     },
     "execution_count": 41,
     "metadata": {},
     "output_type": "execute_result"
    }
   ],
   "source": [
    "df[\"stars\"].mean()"
   ]
  },
  {
   "cell_type": "code",
   "execution_count": 42,
   "id": "21347d03-0c67-439f-b463-d69cecdb74bb",
   "metadata": {},
   "outputs": [
    {
     "data": {
      "text/plain": [
       "0.0"
      ]
     },
     "execution_count": 42,
     "metadata": {},
     "output_type": "execute_result"
    }
   ],
   "source": [
    "df[\"stars\"].median()"
   ]
  },
  {
   "cell_type": "code",
   "execution_count": 43,
   "id": "82e5b57c-f7b5-4d17-970b-000bc54f350b",
   "metadata": {},
   "outputs": [
    {
     "data": {
      "text/plain": [
       "0    0.0\n",
       "Name: stars, dtype: float64"
      ]
     },
     "execution_count": 43,
     "metadata": {},
     "output_type": "execute_result"
    }
   ],
   "source": [
    "df[\"stars\"].mode()"
   ]
  },
  {
   "cell_type": "markdown",
   "id": "531293da-aa1d-4b56-8568-3daaf0e4e9f3",
   "metadata": {},
   "source": [
    "The most common trend is that we could see that consumers tend to rate with a 0, meaning that their opinion tends to be very radical. So in case we want to work with all these values, we might think how we could treat all these 0.0 ratings since more than half of the reviews are 0."
   ]
  },
  {
   "cell_type": "code",
   "execution_count": 44,
   "id": "268e39c1-7ee2-4874-b02c-a44c71cdfc28",
   "metadata": {},
   "outputs": [],
   "source": [
    "rating_variance = df[\"stars\"].var()\n",
    "rating_std_deviation = df[\"stars\"].std()\n",
    "rating_min_price = df[\"stars\"].min()\n",
    "rating_max_price = df[\"stars\"].max()\n",
    "rating_range_price = max_price - min_price\n",
    "rating_quantiles_price = df[\"stars\"].quantile([0.25, 0.5, 0.75])\n",
    "rating_interquartile_range = df[\"stars\"].quantile(0.75) - df[\"stars\"].quantile(0.5)"
   ]
  },
  {
   "cell_type": "code",
   "execution_count": 45,
   "id": "99f65cd4-95ba-4dc0-88af-99121c9a1b07",
   "metadata": {},
   "outputs": [
    {
     "data": {
      "text/plain": [
       "(4.81743402976196, 2.1948653785054697, 100000.0, 4.4)"
      ]
     },
     "execution_count": 45,
     "metadata": {},
     "output_type": "execute_result"
    }
   ],
   "source": [
    "rating_variance, rating_std_deviation, rating_range_price, rating_interquartile_range"
   ]
  },
  {
   "cell_type": "markdown",
   "id": "f05abdad-2675-4470-a818-37f46c965789",
   "metadata": {},
   "source": [
    "There is a wide variation in customer feedback. As we could see, the ratings go from 0-5. All values from both first and second quartile are 0, but we see an increase up to 4.4 in the range from Q2 to Q3, meaning there is a big dispersion in the values compended in that quartile."
   ]
  },
  {
   "cell_type": "code",
   "execution_count": 47,
   "id": "397ae1ce-60fc-4493-bad4-74f922d39c8c",
   "metadata": {},
   "outputs": [
    {
     "data": {
      "text/plain": [
       "(0.08120735761080985, -1.9260061280432985)"
      ]
     },
     "execution_count": 47,
     "metadata": {},
     "output_type": "execute_result"
    }
   ],
   "source": [
    "skewness_rating = df[\"stars\"].skew()\n",
    "kurtosis_rating = df[\"stars\"].kurtosis()\n",
    "\n",
    "skewness_rating, kurtosis_rating"
   ]
  },
  {
   "cell_type": "markdown",
   "id": "76441251-7e79-456c-8382-eb4564711e34",
   "metadata": {},
   "source": [
    "The negative value in skewness, indicates that the distribution is left-skewed, so they tend to lower values."
   ]
  },
  {
   "cell_type": "code",
   "execution_count": 48,
   "id": "044b8572-8ff6-46de-b3c0-400233efd3db",
   "metadata": {},
   "outputs": [
    {
     "name": "stderr",
     "output_type": "stream",
     "text": [
      "C:\\Users\\Fran\\anaconda3\\Lib\\site-packages\\seaborn\\_oldcore.py:1119: FutureWarning: use_inf_as_na option is deprecated and will be removed in a future version. Convert inf values to NaN before operating instead.\n",
      "  with pd.option_context('mode.use_inf_as_na', True):\n"
     ]
    },
    {
     "data": {
      "text/plain": [
       "<Axes: xlabel='stars', ylabel='Count'>"
      ]
     },
     "execution_count": 48,
     "metadata": {},
     "output_type": "execute_result"
    },
    {
     "data": {
      "image/png": "[encoded data removed]",
      "text/plain": [
       "<Figure size 640x480 with 1 Axes>"
      ]
     },
     "metadata": {},
     "output_type": "display_data"
    }
   ],
   "source": [
    "sns.histplot(df[\"stars\"], kde=True)"
   ]
  },
  {
   "cell_type": "markdown",
   "id": "ea837d10-ad9d-4d54-9cd1-29f82d3cec69",
   "metadata": {},
   "source": [
    "As we could see \"0\" is the most common value, related to what we've said in the previous questions."
   ]
  },
  {
   "cell_type": "code",
   "execution_count": null,
   "id": "094f0f64-5f18-443f-a2d4-972db5c7a46c",
   "metadata": {},
   "outputs": [],
   "source": []
  }
 ],
 "metadata": {
  "kernelspec": {
   "display_name": "Python 3 (ipykernel)",
   "language": "python",
   "name": "python3"
  },
  "language_info": {
   "codemirror_mode": {
    "name": "ipython",
    "version": 3
   },
   "file_extension": ".py",
   "mimetype": "text/x-python",
   "name": "python",
   "nbconvert_exporter": "python",
   "pygments_lexer": "ipython3",
   "version": "3.11.7"
  }
 },
 "nbformat": 4,
 "nbformat_minor": 5
}
